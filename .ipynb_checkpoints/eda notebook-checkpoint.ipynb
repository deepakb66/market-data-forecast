{
 "cells": [
  {
   "cell_type": "code",
   "execution_count": 2,
   "id": "2fd4882e",
   "metadata": {},
   "outputs": [],
   "source": [
    "import dask.dataframe as dd\n",
    "import matplotlib.pyplot as plt"
   ]
  },
  {
   "cell_type": "code",
   "execution_count": 3,
   "id": "f9a60fbe",
   "metadata": {},
   "outputs": [],
   "source": [
    "train_data = dd.read_parquet(\"C:/Users/Floater PC/OneDrive - Hult Students/Documents/GitHub/jane-street-real-time-market-data-forecasting/train.parquet\")"
   ]
  },
  {
   "cell_type": "code",
   "execution_count": 4,
   "id": "0c5887f0",
   "metadata": {},
   "outputs": [
    {
     "name": "stdout",
     "output_type": "stream",
     "text": [
      "Data Types:\n",
      " date_id            int16\n",
      "time_id            int16\n",
      "symbol_id           int8\n",
      "weight           float32\n",
      "feature_00       float32\n",
      "                  ...   \n",
      "responder_5      float32\n",
      "responder_6      float32\n",
      "responder_7      float32\n",
      "responder_8      float32\n",
      "partition_id    category\n",
      "Length: 93, dtype: object\n"
     ]
    }
   ],
   "source": [
    "print(\"Data Types:\\n\", train_data.dtypes)"
   ]
  },
  {
   "cell_type": "code",
   "execution_count": 5,
   "id": "4c15a7c2",
   "metadata": {},
   "outputs": [
    {
     "name": "stdout",
     "output_type": "stream",
     "text": [
      "Unique Values for Categorical Columns:\n",
      " {'partition_id': 10}\n"
     ]
    }
   ],
   "source": [
    "categorical_columns = train_data.select_dtypes(include='category').columns\n",
    "unique_counts = {col: train_data[col].nunique().compute() for col in categorical_columns}\n",
    "print(\"Unique Values for Categorical Columns:\\n\", unique_counts)"
   ]
  },
  {
   "cell_type": "code",
   "execution_count": 6,
   "id": "988152de",
   "metadata": {},
   "outputs": [
    {
     "name": "stdout",
     "output_type": "stream",
     "text": [
      "Missing Values:\n",
      " feature_00    3182052\n",
      "feature_01    3182052\n",
      "feature_02    3182052\n",
      "feature_03    3182052\n",
      "feature_04    3182052\n",
      "feature_08     300247\n",
      "feature_15    1209299\n",
      "feature_16        261\n",
      "feature_17     201838\n",
      "feature_18        226\n",
      "feature_19        226\n",
      "feature_21    8435985\n",
      "feature_26    8435985\n",
      "feature_27    8435985\n",
      "feature_31    8435985\n",
      "feature_32     478457\n",
      "feature_33     478457\n",
      "feature_37        849\n",
      "feature_39    4300649\n",
      "feature_40      67856\n",
      "feature_41    1093012\n",
      "feature_42    4300649\n",
      "feature_43      67856\n",
      "feature_44    1093012\n",
      "feature_45     317163\n",
      "feature_46     317163\n",
      "feature_47         87\n",
      "feature_50    4254098\n",
      "feature_51      13805\n",
      "feature_52    1044898\n",
      "feature_53    4254098\n",
      "feature_54      13805\n",
      "feature_55    1044898\n",
      "feature_56        226\n",
      "feature_57        226\n",
      "feature_58     478452\n",
      "feature_62     292827\n",
      "feature_63     227566\n",
      "feature_64     237663\n",
      "feature_65     317163\n",
      "feature_66     317163\n",
      "feature_73     483759\n",
      "feature_74     483759\n",
      "feature_75      58430\n",
      "feature_76      58430\n",
      "feature_77      20043\n",
      "feature_78      20043\n",
      "dtype: int64\n",
      "Missing Percentage:\n",
      " feature_00     6.752030\n",
      "feature_01     6.752030\n",
      "feature_02     6.752030\n",
      "feature_03     6.752030\n",
      "feature_04     6.752030\n",
      "feature_08     0.637097\n",
      "feature_15     2.566024\n",
      "feature_16     0.000554\n",
      "feature_17     0.428282\n",
      "feature_18     0.000480\n",
      "feature_19     0.000480\n",
      "feature_21    17.900406\n",
      "feature_26    17.900406\n",
      "feature_27    17.900406\n",
      "feature_31    17.900406\n",
      "feature_32     1.015243\n",
      "feature_33     1.015243\n",
      "feature_37     0.001802\n",
      "feature_39     9.125593\n",
      "feature_40     0.143984\n",
      "feature_41     2.319274\n",
      "feature_42     9.125593\n",
      "feature_43     0.143984\n",
      "feature_44     2.319274\n",
      "feature_45     0.672992\n",
      "feature_46     0.672992\n",
      "feature_47     0.000185\n",
      "feature_50     9.026816\n",
      "feature_51     0.029293\n",
      "feature_52     2.217180\n",
      "feature_53     9.026816\n",
      "feature_54     0.029293\n",
      "feature_55     2.217180\n",
      "feature_56     0.000480\n",
      "feature_57     0.000480\n",
      "feature_58     1.015232\n",
      "feature_62     0.621353\n",
      "feature_63     0.482875\n",
      "feature_64     0.504300\n",
      "feature_65     0.672992\n",
      "feature_66     0.672992\n",
      "feature_73     1.026493\n",
      "feature_74     1.026493\n",
      "feature_75     0.123983\n",
      "feature_76     0.123983\n",
      "feature_77     0.042529\n",
      "feature_78     0.042529\n",
      "dtype: float64\n"
     ]
    }
   ],
   "source": [
    "missing_values = train_data.isnull().sum().compute()\n",
    "missing_percentage = (missing_values / len(train_data)) * 100\n",
    "print(\"Missing Values:\\n\", missing_values[missing_values > 0])\n",
    "print(\"Missing Percentage:\\n\", missing_percentage[missing_percentage > 0])"
   ]
  },
  {
   "cell_type": "code",
   "execution_count": 7,
   "id": "cd75defd",
   "metadata": {},
   "outputs": [
    {
     "name": "stdout",
     "output_type": "stream",
     "text": [
      "Numeric Columns: ['date_id', 'time_id', 'symbol_id', 'weight', 'feature_00', 'feature_01', 'feature_02', 'feature_03', 'feature_04', 'feature_05', 'feature_06', 'feature_07', 'feature_08', 'feature_09', 'feature_10', 'feature_11', 'feature_12', 'feature_13', 'feature_14', 'feature_15', 'feature_16', 'feature_17', 'feature_18', 'feature_19', 'feature_20', 'feature_21', 'feature_22', 'feature_23', 'feature_24', 'feature_25', 'feature_26', 'feature_27', 'feature_28', 'feature_29', 'feature_30', 'feature_31', 'feature_32', 'feature_33', 'feature_34', 'feature_35', 'feature_36', 'feature_37', 'feature_38', 'feature_39', 'feature_40', 'feature_41', 'feature_42', 'feature_43', 'feature_44', 'feature_45', 'feature_46', 'feature_47', 'feature_48', 'feature_49', 'feature_50', 'feature_51', 'feature_52', 'feature_53', 'feature_54', 'feature_55', 'feature_56', 'feature_57', 'feature_58', 'feature_59', 'feature_60', 'feature_61', 'feature_62', 'feature_63', 'feature_64', 'feature_65', 'feature_66', 'feature_67', 'feature_68', 'feature_69', 'feature_70', 'feature_71', 'feature_72', 'feature_73', 'feature_74', 'feature_75', 'feature_76', 'feature_77', 'feature_78', 'responder_0', 'responder_1', 'responder_2', 'responder_3', 'responder_4', 'responder_5', 'responder_6', 'responder_7', 'responder_8']\n"
     ]
    }
   ],
   "source": [
    "numeric_columns = [col for col in train_data.columns if str(train_data[col].dtype).startswith(('float', 'int'))]\n",
    "print(\"Numeric Columns:\", numeric_columns)\n"
   ]
  },
  {
   "cell_type": "code",
   "execution_count": 8,
   "id": "0b6a08b7",
   "metadata": {},
   "outputs": [
    {
     "name": "stdout",
     "output_type": "stream",
     "text": [
      "Summary Statistics:\n",
      "             date_id       time_id     symbol_id        weight    feature_00  \\\n",
      "count  4.712734e+07  4.712734e+07  4.712734e+07  4.712734e+07  4.394529e+07   \n",
      "mean   1.005479e+03  4.687057e+02  1.810239e+01  2.009445e+00  5.738326e-01   \n",
      "std    4.451820e+02  2.725187e+02  1.130164e+01  1.129388e+00  1.327413e+00   \n",
      "min    0.000000e+00  0.000000e+00  0.000000e+00  1.499667e-01 -5.794129e+00   \n",
      "25%    6.770000e+02  2.600000e+02  1.100000e+01  1.479477e+00 -7.007211e-02   \n",
      "50%    1.059000e+03  5.090000e+02  1.900000e+01  2.077103e+00  8.347183e-01   \n",
      "75%    1.376000e+03  7.480000e+02  2.900000e+01  4.103159e+00  1.984595e+00   \n",
      "max    1.698000e+03  9.670000e+02  3.800000e+01  1.024042e+01  6.477002e+00   \n",
      "\n",
      "         feature_01    feature_02    feature_03    feature_04    feature_05  \\\n",
      "count  4.394529e+07  4.394529e+07  4.394529e+07  4.394529e+07  4.712734e+07   \n",
      "mean   1.019200e-02  5.731025e-01  5.727449e-01 -8.522303e-04 -3.837983e-02   \n",
      "std    1.084941e+00  1.322870e+00  1.322849e+00  1.037188e+00  1.020120e+00   \n",
      "min   -5.741592e+00 -5.726010e+00 -5.601890e+00 -5.799880e+00 -2.535040e+01   \n",
      "25%   -3.362654e-01 -7.648063e-02 -7.726269e-02 -4.667797e-01 -2.816069e-01   \n",
      "50%    3.499496e-01  8.156853e-01  8.284741e-01  1.506104e-01  1.476288e-01   \n",
      "75%    1.683147e+00  2.013883e+00  2.008874e+00  1.277409e+00  1.215191e+00   \n",
      "max    6.292391e+00  6.490265e+00  6.695623e+00  6.164160e+00  3.572622e+01   \n",
      "\n",
      "       ...    feature_78   responder_0   responder_1   responder_2  \\\n",
      "count  ...  4.710730e+07  4.712734e+07  4.712734e+07  4.712734e+07   \n",
      "mean   ... -1.255889e-02 -1.545149e-03 -8.656003e-04 -1.419603e-04   \n",
      "std    ...  9.435918e-01  5.912108e-01  5.875515e-01  5.991787e-01   \n",
      "min    ... -6.159515e+00 -5.000000e+00 -5.000000e+00 -5.000000e+00   \n",
      "25%    ... -2.489781e-01 -1.312496e-01 -9.960314e-02 -1.024083e-01   \n",
      "50%    ... -1.074944e-01  1.111139e-02  4.367188e-02  4.831455e-03   \n",
      "75%    ...  6.253331e-01  4.878644e-01  3.910875e-01  5.209076e-01   \n",
      "max    ...  2.574540e+02  5.000000e+00  5.000000e+00  5.000000e+00   \n",
      "\n",
      "        responder_3   responder_4   responder_5   responder_6   responder_7  \\\n",
      "count  4.712734e+07  4.712734e+07  4.712734e+07  4.712734e+07  4.712734e+07   \n",
      "mean  -1.638009e-02 -1.244198e-02 -1.662421e-02 -2.140649e-03  1.476110e-03   \n",
      "std    8.192308e-01  8.728399e-01  7.345458e-01  8.898516e-01  9.160422e-01   \n",
      "min   -5.000000e+00 -5.000000e+00 -5.000000e+00 -5.000000e+00 -5.000000e+00   \n",
      "25%   -2.090305e-01 -2.360735e-01 -1.310765e-01 -2.630842e-01 -2.659594e-01   \n",
      "50%    6.698723e-02  9.786070e-02  5.500175e-02  2.736322e-03  1.579182e-02   \n",
      "75%    5.287542e-01  6.792014e-01  4.447831e-01  6.617760e-01  7.072287e-01   \n",
      "max    5.000000e+00  5.000000e+00  5.000000e+00  5.000000e+00  5.000000e+00   \n",
      "\n",
      "        responder_8  \n",
      "count  4.712734e+07  \n",
      "mean  -1.113620e-03  \n",
      "std    8.644118e-01  \n",
      "min   -5.000000e+00  \n",
      "25%   -1.969145e-01  \n",
      "50%    4.299114e-03  \n",
      "75%    6.625145e-01  \n",
      "max    5.000000e+00  \n",
      "\n",
      "[8 rows x 92 columns]\n"
     ]
    }
   ],
   "source": [
    "stats = train_data[numeric_columns].describe(percentiles=[0.25, 0.5, 0.75]).compute()\n",
    "print(\"Summary Statistics:\\n\", stats)"
   ]
  },
  {
   "cell_type": "code",
   "execution_count": 9,
   "id": "176a993d",
   "metadata": {},
   "outputs": [
    {
     "data": {
      "image/png": "[encoded data removed]",
      "text/plain": [
       "<Figure size 640x480 with 1 Axes>"
      ]
     },
     "metadata": {},
     "output_type": "display_data"
    }
   ],
   "source": [
    "# Plot a histogram for a numeric column (sampled)\n",
    "sampled_data = train_data.sample(frac=0.1).compute()\n",
    "column_name = 'weight'\n",
    "sampled_data[column_name].hist(bins=30)\n",
    "plt.title(f'Distribution of {column_name}')\n",
    "plt.xlabel(column_name)\n",
    "plt.ylabel('Frequency')\n",
    "plt.show()"
   ]
  },
  {
   "cell_type": "code",
   "execution_count": 10,
   "id": "5067799b",
   "metadata": {},
   "outputs": [
    {
     "name": "stdout",
     "output_type": "stream",
     "text": [
      "Correlation Matrix:\n",
      "                date_id   time_id  symbol_id    weight  feature_00  feature_01  \\\n",
      "date_id       1.000000  0.076006   0.122194  0.207861    0.393189    0.013284   \n",
      "time_id       0.076006  1.000000   0.012581  0.013109   -0.005470   -0.328783   \n",
      "symbol_id     0.122194  0.012581   1.000000 -0.216790    0.005560    0.000016   \n",
      "weight        0.207861  0.013109  -0.216790  1.000000    0.078560    0.010930   \n",
      "feature_00    0.393189 -0.005470   0.005560  0.078560    1.000000    0.061662   \n",
      "...                ...       ...        ...       ...         ...         ...   \n",
      "responder_5  -0.022152 -0.000163  -0.000906 -0.012535   -0.044042   -0.011198   \n",
      "responder_6   0.001360 -0.011409   0.001737 -0.002052    0.004535   -0.011913   \n",
      "responder_7   0.004316 -0.018497   0.002865 -0.007753    0.009067   -0.006831   \n",
      "responder_8   0.000690 -0.004980  -0.000010 -0.000686    0.002267   -0.009196   \n",
      "partition_id  0.993890  0.076449   0.122117  0.211270    0.396405    0.013742   \n",
      "\n",
      "              feature_02  feature_03  feature_04  feature_05  ...  \\\n",
      "date_id         0.392667    0.392752    0.003462   -0.032401  ...   \n",
      "time_id         0.020634    0.015792   -0.111395    0.010697  ...   \n",
      "symbol_id       0.005495    0.005441    0.000395   -0.004237  ...   \n",
      "weight          0.077739    0.078024    0.002358   -0.000409  ...   \n",
      "feature_00      0.943665    0.945715    0.034241   -0.038593  ...   \n",
      "...                  ...         ...         ...         ...  ...   \n",
      "responder_5    -0.043039   -0.044057   -0.024315   -0.018320  ...   \n",
      "responder_6     0.006623    0.005247   -0.031450   -0.016358  ...   \n",
      "responder_7     0.010393    0.009491   -0.016136   -0.010216  ...   \n",
      "responder_8     0.003962    0.002638   -0.029706   -0.025690  ...   \n",
      "partition_id    0.395635    0.395772    0.003480   -0.033791  ...   \n",
      "\n",
      "              responder_0  responder_1  responder_2  responder_3  responder_4  \\\n",
      "date_id         -0.003807    -0.005788     0.000028    -0.019845    -0.014707   \n",
      "time_id          0.029246     0.096363     0.009290     0.002141     0.011351   \n",
      "symbol_id       -0.000311     0.000001     0.000748     0.000271     0.001796   \n",
      "weight          -0.000683     0.006534     0.000019    -0.011631    -0.013859   \n",
      "feature_00      -0.002968    -0.001015    -0.001396    -0.035790    -0.019602   \n",
      "...                   ...          ...          ...          ...          ...   \n",
      "responder_5      0.138528     0.069761     0.296931     0.577468     0.323655   \n",
      "responder_6     -0.119638    -0.055661    -0.055485     0.727076     0.356218   \n",
      "responder_7     -0.044098    -0.096490    -0.024388     0.341058     0.801671   \n",
      "responder_8     -0.059995    -0.033915    -0.149530     0.328480     0.164488   \n",
      "partition_id    -0.003718    -0.005250     0.000039    -0.019537    -0.014762   \n",
      "\n",
      "              responder_5  responder_6  responder_7  responder_8  partition_id  \n",
      "date_id         -0.022152     0.001360     0.004316     0.000690      0.993890  \n",
      "time_id         -0.000163    -0.011409    -0.018497    -0.004980      0.076449  \n",
      "symbol_id       -0.000906     0.001737     0.002865    -0.000010      0.122117  \n",
      "weight          -0.012535    -0.002052    -0.007753    -0.000686      0.211270  \n",
      "feature_00      -0.044042     0.004535     0.009067     0.002267      0.396405  \n",
      "...                   ...          ...          ...          ...           ...  \n",
      "responder_5      1.000000     0.299313     0.145406     0.621814     -0.021519  \n",
      "responder_6      0.299313     1.000000     0.432846     0.446752      0.001165  \n",
      "responder_7      0.145406     0.432846     1.000000     0.206458      0.003828  \n",
      "responder_8      0.621814     0.446752     0.206458     1.000000      0.000695  \n",
      "partition_id    -0.021519     0.001165     0.003828     0.000695      1.000000  \n",
      "\n",
      "[93 rows x 93 columns]\n"
     ]
    }
   ],
   "source": [
    "# Calculate correlation matrix for numeric features\n",
    "correlation_matrix = sampled_data.corr()\n",
    "print(\"Correlation Matrix:\\n\", correlation_matrix)"
   ]
  },
  {
   "cell_type": "code",
   "execution_count": 11,
   "id": "4cb37761",
   "metadata": {},
   "outputs": [
    {
     "data": {
      "image/png": "[encoded data removed]",
      "text/plain": [
       "<Figure size 640x480 with 1 Axes>"
      ]
     },
     "metadata": {},
     "output_type": "display_data"
    }
   ],
   "source": [
    "# Generate rolling mean for a time-indexed feature\n",
    "time_column = 'time_id'\n",
    "column_name = 'responder_6'\n",
    "if time_column in train_data.columns:\n",
    "    # Sample a smaller portion of data first\n",
    "    sample_size = 0.01  # 1% of data\n",
    "    sampled_data = train_data.sample(frac=sample_size).compute()\n",
    "    \n",
    "    # Process the sampled data\n",
    "    sorted_sample = sampled_data.sort_values(time_column).set_index(time_column)\n",
    "    sorted_sample['rolling_avg'] = sorted_sample[column_name].rolling(window=5).mean()\n",
    "    \n",
    "    # Plot the results\n",
    "    sorted_sample[[column_name, 'rolling_avg']].plot()\n",
    "    plt.title(f'Rolling Average of {column_name}')\n",
    "    plt.xlabel('Time ID')\n",
    "    plt.ylabel('Value')\n",
    "    plt.show()"
   ]
  },
  {
   "cell_type": "code",
   "execution_count": 12,
   "id": "64b7b2a6",
   "metadata": {},
   "outputs": [
    {
     "name": "stdout",
     "output_type": "stream",
     "text": [
      "Average Values by Category:\n",
      "                   date_id     time_id  symbol_id    weight  feature_00  \\\n",
      "partition_id                                                             \n",
      "0               93.846288  424.000000  13.766376  1.973282         NaN   \n",
      "1              255.820466  424.000000  14.536179  1.866080   -0.431989   \n",
      "2              429.154319  424.000000  15.216662  1.717335    0.826814   \n",
      "3              594.361922  425.247479  17.158422  1.534328    0.678833   \n",
      "4              765.773752  483.500000  18.609944  1.652586   -0.526780   \n",
      "5              936.545520  483.500000  19.271674  2.111238   -0.416553   \n",
      "6             1106.201123  483.500000  18.956311  1.739963    0.082850   \n",
      "7             1274.876394  483.500000  19.018487  1.997698    1.070065   \n",
      "8             1444.920858  483.500000  18.975564  2.669700    1.055861   \n",
      "9             1614.142394  483.500000  19.014039  2.361383    1.873209   \n",
      "\n",
      "              feature_01  feature_02  feature_03  feature_04  feature_05  ...  \\\n",
      "partition_id                                                              ...   \n",
      "0                    NaN         NaN         NaN         NaN   -0.044632  ...   \n",
      "1               0.017173   -0.432324   -0.431780    0.000035    0.040265  ...   \n",
      "2               0.003165    0.831369    0.829490   -0.020209    0.019141  ...   \n",
      "3               0.037919    0.680185    0.679259    0.005668    0.019685  ...   \n",
      "4              -0.017383   -0.528172   -0.527570   -0.007760    0.010359  ...   \n",
      "5              -0.035118   -0.416180   -0.416084   -0.002581   -0.034909  ...   \n",
      "6              -0.045472    0.089029    0.087881   -0.008044   -0.039365  ...   \n",
      "7               0.016119    1.071795    1.071449    0.006477   -0.120161  ...   \n",
      "8               0.089724    1.048991    1.049376    0.022606   -0.085951  ...   \n",
      "9               0.026021    1.864771    1.864177   -0.012121   -0.048475  ...   \n",
      "\n",
      "              feature_78  responder_0  responder_1  responder_2  responder_3  \\\n",
      "partition_id                                                                   \n",
      "0              -0.098051     0.008425     0.010765     0.002413     0.011391   \n",
      "1               0.017931     0.006349     0.014346     0.001734    -0.001230   \n",
      "2              -0.010823     0.000538     0.004950     0.000063    -0.008826   \n",
      "3               0.024093    -0.005230    -0.007937    -0.001699    -0.000817   \n",
      "4               0.019523    -0.000040     0.006479     0.000033    -0.002725   \n",
      "5              -0.009708    -0.003070    -0.004486    -0.000432    -0.008417   \n",
      "6              -0.106400    -0.005259    -0.015800    -0.001154    -0.009371   \n",
      "7              -0.033664    -0.002292    -0.002695    -0.000246    -0.003523   \n",
      "8               0.037306    -0.002509     0.004366    -0.000132    -0.060969   \n",
      "9               0.013253    -0.001347    -0.000856     0.000329    -0.039373   \n",
      "\n",
      "              responder_4  responder_5  responder_6  responder_7  responder_8  \n",
      "partition_id                                                                   \n",
      "0                0.021855     0.003327     0.001488    -0.000482     0.001078  \n",
      "1                0.000557    -0.003292    -0.006968    -0.014262    -0.003444  \n",
      "2               -0.014690    -0.004485    -0.008083    -0.012496    -0.003620  \n",
      "3                0.003591    -0.000767     0.002036     0.008277     0.001825  \n",
      "4               -0.000604    -0.003084     0.000059     0.004988    -0.000851  \n",
      "5               -0.015160    -0.004638    -0.006323    -0.008287    -0.003544  \n",
      "6               -0.012487    -0.004716    -0.004675     0.000358    -0.001759  \n",
      "7                0.001567    -0.002894     0.001600     0.013433     0.000179  \n",
      "8               -0.033213    -0.074809     0.001341     0.013857    -0.001042  \n",
      "9               -0.038989    -0.034548    -0.003780    -0.006048    -0.000295  \n",
      "\n",
      "[10 rows x 92 columns]\n"
     ]
    }
   ],
   "source": [
    "category_stats = train_data.groupby('partition_id', observed=True)[numeric_columns].mean().compute()\n",
    "print(\"Average Values by Category:\\n\", category_stats)"
   ]
  }
 ],
 "metadata": {
  "kernelspec": {
   "display_name": "Python 3 (ipykernel)",
   "language": "python",
   "name": "python3"
  },
  "language_info": {
   "codemirror_mode": {
    "name": "ipython",
    "version": 3
   },
   "file_extension": ".py",
   "mimetype": "text/x-python",
   "name": "python",
   "nbconvert_exporter": "python",
   "pygments_lexer": "ipython3",
   "version": "3.11.5"
  },
  "toc": {
   "base_numbering": 1,
   "nav_menu": {},
   "number_sections": true,
   "sideBar": true,
   "skip_h1_title": false,
   "title_cell": "Table of Contents",
   "title_sidebar": "Contents",
   "toc_cell": false,
   "toc_position": {},
   "toc_section_display": true,
   "toc_window_display": false
  },
  "varInspector": {
   "cols": {
    "lenName": 16,
    "lenType": 16,
    "lenVar": 40
   },
   "kernels_config": {
    "python": {
     "delete_cmd_postfix": "",
     "delete_cmd_prefix": "del ",
     "library": "var_list.py",
     "varRefreshCmd": "print(var_dic_list())"
    },
    "r": {
     "delete_cmd_postfix": ") ",
     "delete_cmd_prefix": "rm(",
     "library": "var_list.r",
     "varRefreshCmd": "cat(var_dic_list()) "
    }
   },
   "types_to_exclude": [
    "module",
    "function",
    "builtin_function_or_method",
    "instance",
    "_Feature"
   ],
   "window_display": false
  },
  "widgets": {
   "application/vnd.jupyter.widget-state+json": {
    "state": {},
    "version_major": 2,
    "version_minor": 0
   }
  }
 },
 "nbformat": 4,
 "nbformat_minor": 5
}
